{
 "cells": [
  {
   "cell_type": "code",
   "execution_count": 1,
   "metadata": {},
   "outputs": [],
   "source": [
    "import pandas as pd\n",
    "import os"
   ]
  },
  {
   "cell_type": "code",
   "execution_count": 2,
   "metadata": {},
   "outputs": [],
   "source": [
    "# Function to process each CSV file\n",
    "def process_csv(input_file):\n",
    "    # Read CSV into DataFrame\n",
    "    df = pd.read_csv(input_file)\n",
    "    \n",
    "    # Replace 0 with NaN\n",
    "    df = df.replace(0, pd.NA)\n",
    "    \n",
    "    # Fill NaN values in object columns with mode\n",
    "    for column in df.select_dtypes(include='object'):\n",
    "        df[column].fillna(df[column].mode()[0], inplace=True)\n",
    "    \n",
    "    # Generate output file name\n",
    "    output_file = os.path.splitext(os.path.basename(input_file))[0]\n",
    "    output_file = 'Imputed_' + output_file + '.csv'\n",
    "\n",
    "    # Save DataFrame to CSV\n",
    "    df.to_csv(output_file, index=False)\n",
    "    \n",
    "    print(f\"Processed: {input_file} -> {output_file}\")"
   ]
  },
  {
   "cell_type": "code",
   "execution_count": 3,
   "metadata": {},
   "outputs": [],
   "source": [
    "\n",
    "# Directory containing CSV files\n",
    "input_folder = r\"C:\\Users\\abdul\\Desktop\\Foliar research\\Feature Engineering\""
   ]
  },
  {
   "cell_type": "code",
   "execution_count": 4,
   "metadata": {},
   "outputs": [
    {
     "name": "stderr",
     "output_type": "stream",
     "text": [
      "C:\\Users\\abdul\\AppData\\Local\\Temp\\ipykernel_26736\\2504319490.py:11: FutureWarning: A value is trying to be set on a copy of a DataFrame or Series through chained assignment using an inplace method.\n",
      "The behavior will change in pandas 3.0. This inplace method will never work because the intermediate object on which we are setting values always behaves as a copy.\n",
      "\n",
      "For example, when doing 'df[col].method(value, inplace=True)', try using 'df.method({col: value}, inplace=True)' or df[col] = df[col].method(value) instead, to perform the operation inplace on the original object.\n",
      "\n",
      "\n",
      "  df[column].fillna(df[column].mode()[0], inplace=True)\n",
      "C:\\Users\\abdul\\AppData\\Local\\Temp\\ipykernel_26736\\2504319490.py:11: FutureWarning: Downcasting object dtype arrays on .fillna, .ffill, .bfill is deprecated and will change in a future version. Call result.infer_objects(copy=False) instead. To opt-in to the future behavior, set `pd.set_option('future.no_silent_downcasting', True)`\n",
      "  df[column].fillna(df[column].mode()[0], inplace=True)\n"
     ]
    },
    {
     "name": "stdout",
     "output_type": "stream",
     "text": [
      "Processed: C:\\Users\\abdul\\Desktop\\Foliar research\\Feature Engineering\\Cleaned Data - All.csv -> Imputed_Cleaned Data - All.csv\n",
      "Processed: C:\\Users\\abdul\\Desktop\\Foliar research\\Feature Engineering\\Cleaned Tomato___Bacterial_spot.csv -> Imputed_Cleaned Tomato___Bacterial_spot.csv\n",
      "Processed: C:\\Users\\abdul\\Desktop\\Foliar research\\Feature Engineering\\Cleaned Tomato___Early_blight.csv -> Imputed_Cleaned Tomato___Early_blight.csv\n",
      "Processed: C:\\Users\\abdul\\Desktop\\Foliar research\\Feature Engineering\\Cleaned Tomato___healthy.csv -> Imputed_Cleaned Tomato___healthy.csv\n",
      "Processed: C:\\Users\\abdul\\Desktop\\Foliar research\\Feature Engineering\\Cleaned Tomato___Late_blight.csv -> Imputed_Cleaned Tomato___Late_blight.csv\n"
     ]
    },
    {
     "name": "stderr",
     "output_type": "stream",
     "text": [
      "C:\\Users\\abdul\\AppData\\Local\\Temp\\ipykernel_26736\\2504319490.py:11: FutureWarning: A value is trying to be set on a copy of a DataFrame or Series through chained assignment using an inplace method.\n",
      "The behavior will change in pandas 3.0. This inplace method will never work because the intermediate object on which we are setting values always behaves as a copy.\n",
      "\n",
      "For example, when doing 'df[col].method(value, inplace=True)', try using 'df.method({col: value}, inplace=True)' or df[col] = df[col].method(value) instead, to perform the operation inplace on the original object.\n",
      "\n",
      "\n",
      "  df[column].fillna(df[column].mode()[0], inplace=True)\n",
      "C:\\Users\\abdul\\AppData\\Local\\Temp\\ipykernel_26736\\2504319490.py:11: FutureWarning: Downcasting object dtype arrays on .fillna, .ffill, .bfill is deprecated and will change in a future version. Call result.infer_objects(copy=False) instead. To opt-in to the future behavior, set `pd.set_option('future.no_silent_downcasting', True)`\n",
      "  df[column].fillna(df[column].mode()[0], inplace=True)\n",
      "C:\\Users\\abdul\\AppData\\Local\\Temp\\ipykernel_26736\\2504319490.py:11: FutureWarning: A value is trying to be set on a copy of a DataFrame or Series through chained assignment using an inplace method.\n",
      "The behavior will change in pandas 3.0. This inplace method will never work because the intermediate object on which we are setting values always behaves as a copy.\n",
      "\n",
      "For example, when doing 'df[col].method(value, inplace=True)', try using 'df.method({col: value}, inplace=True)' or df[col] = df[col].method(value) instead, to perform the operation inplace on the original object.\n",
      "\n",
      "\n",
      "  df[column].fillna(df[column].mode()[0], inplace=True)\n",
      "C:\\Users\\abdul\\AppData\\Local\\Temp\\ipykernel_26736\\2504319490.py:11: FutureWarning: A value is trying to be set on a copy of a DataFrame or Series through chained assignment using an inplace method.\n",
      "The behavior will change in pandas 3.0. This inplace method will never work because the intermediate object on which we are setting values always behaves as a copy.\n",
      "\n",
      "For example, when doing 'df[col].method(value, inplace=True)', try using 'df.method({col: value}, inplace=True)' or df[col] = df[col].method(value) instead, to perform the operation inplace on the original object.\n",
      "\n",
      "\n",
      "  df[column].fillna(df[column].mode()[0], inplace=True)\n",
      "C:\\Users\\abdul\\AppData\\Local\\Temp\\ipykernel_26736\\2504319490.py:11: FutureWarning: A value is trying to be set on a copy of a DataFrame or Series through chained assignment using an inplace method.\n",
      "The behavior will change in pandas 3.0. This inplace method will never work because the intermediate object on which we are setting values always behaves as a copy.\n",
      "\n",
      "For example, when doing 'df[col].method(value, inplace=True)', try using 'df.method({col: value}, inplace=True)' or df[col] = df[col].method(value) instead, to perform the operation inplace on the original object.\n",
      "\n",
      "\n",
      "  df[column].fillna(df[column].mode()[0], inplace=True)\n",
      "C:\\Users\\abdul\\AppData\\Local\\Temp\\ipykernel_26736\\2504319490.py:11: FutureWarning: A value is trying to be set on a copy of a DataFrame or Series through chained assignment using an inplace method.\n",
      "The behavior will change in pandas 3.0. This inplace method will never work because the intermediate object on which we are setting values always behaves as a copy.\n",
      "\n",
      "For example, when doing 'df[col].method(value, inplace=True)', try using 'df.method({col: value}, inplace=True)' or df[col] = df[col].method(value) instead, to perform the operation inplace on the original object.\n",
      "\n",
      "\n",
      "  df[column].fillna(df[column].mode()[0], inplace=True)\n"
     ]
    },
    {
     "name": "stdout",
     "output_type": "stream",
     "text": [
      "Processed: C:\\Users\\abdul\\Desktop\\Foliar research\\Feature Engineering\\Cleaned Tomato___Leaf_Mold.csv -> Imputed_Cleaned Tomato___Leaf_Mold.csv\n",
      "Processed: C:\\Users\\abdul\\Desktop\\Foliar research\\Feature Engineering\\Cleaned Tomato___Septoria_leaf_spot.csv -> Imputed_Cleaned Tomato___Septoria_leaf_spot.csv\n",
      "Processed: C:\\Users\\abdul\\Desktop\\Foliar research\\Feature Engineering\\Cleaned Tomato___Spider_mites Two-spotted_spider_mite.csv -> Imputed_Cleaned Tomato___Spider_mites Two-spotted_spider_mite.csv\n",
      "Processed: C:\\Users\\abdul\\Desktop\\Foliar research\\Feature Engineering\\Cleaned Tomato___Target_Spot.csv -> Imputed_Cleaned Tomato___Target_Spot.csv\n",
      "Processed: C:\\Users\\abdul\\Desktop\\Foliar research\\Feature Engineering\\Cleaned Tomato___Tomato_mosaic_virus.csv -> Imputed_Cleaned Tomato___Tomato_mosaic_virus.csv\n"
     ]
    },
    {
     "name": "stderr",
     "output_type": "stream",
     "text": [
      "C:\\Users\\abdul\\AppData\\Local\\Temp\\ipykernel_26736\\2504319490.py:11: FutureWarning: A value is trying to be set on a copy of a DataFrame or Series through chained assignment using an inplace method.\n",
      "The behavior will change in pandas 3.0. This inplace method will never work because the intermediate object on which we are setting values always behaves as a copy.\n",
      "\n",
      "For example, when doing 'df[col].method(value, inplace=True)', try using 'df.method({col: value}, inplace=True)' or df[col] = df[col].method(value) instead, to perform the operation inplace on the original object.\n",
      "\n",
      "\n",
      "  df[column].fillna(df[column].mode()[0], inplace=True)\n",
      "C:\\Users\\abdul\\AppData\\Local\\Temp\\ipykernel_26736\\2504319490.py:11: FutureWarning: A value is trying to be set on a copy of a DataFrame or Series through chained assignment using an inplace method.\n",
      "The behavior will change in pandas 3.0. This inplace method will never work because the intermediate object on which we are setting values always behaves as a copy.\n",
      "\n",
      "For example, when doing 'df[col].method(value, inplace=True)', try using 'df.method({col: value}, inplace=True)' or df[col] = df[col].method(value) instead, to perform the operation inplace on the original object.\n",
      "\n",
      "\n",
      "  df[column].fillna(df[column].mode()[0], inplace=True)\n",
      "C:\\Users\\abdul\\AppData\\Local\\Temp\\ipykernel_26736\\2504319490.py:11: FutureWarning: A value is trying to be set on a copy of a DataFrame or Series through chained assignment using an inplace method.\n",
      "The behavior will change in pandas 3.0. This inplace method will never work because the intermediate object on which we are setting values always behaves as a copy.\n",
      "\n",
      "For example, when doing 'df[col].method(value, inplace=True)', try using 'df.method({col: value}, inplace=True)' or df[col] = df[col].method(value) instead, to perform the operation inplace on the original object.\n",
      "\n",
      "\n",
      "  df[column].fillna(df[column].mode()[0], inplace=True)\n",
      "C:\\Users\\abdul\\AppData\\Local\\Temp\\ipykernel_26736\\2504319490.py:11: FutureWarning: A value is trying to be set on a copy of a DataFrame or Series through chained assignment using an inplace method.\n",
      "The behavior will change in pandas 3.0. This inplace method will never work because the intermediate object on which we are setting values always behaves as a copy.\n",
      "\n",
      "For example, when doing 'df[col].method(value, inplace=True)', try using 'df.method({col: value}, inplace=True)' or df[col] = df[col].method(value) instead, to perform the operation inplace on the original object.\n",
      "\n",
      "\n",
      "  df[column].fillna(df[column].mode()[0], inplace=True)\n",
      "C:\\Users\\abdul\\AppData\\Local\\Temp\\ipykernel_26736\\2504319490.py:11: FutureWarning: A value is trying to be set on a copy of a DataFrame or Series through chained assignment using an inplace method.\n",
      "The behavior will change in pandas 3.0. This inplace method will never work because the intermediate object on which we are setting values always behaves as a copy.\n",
      "\n",
      "For example, when doing 'df[col].method(value, inplace=True)', try using 'df.method({col: value}, inplace=True)' or df[col] = df[col].method(value) instead, to perform the operation inplace on the original object.\n",
      "\n",
      "\n",
      "  df[column].fillna(df[column].mode()[0], inplace=True)\n"
     ]
    },
    {
     "name": "stdout",
     "output_type": "stream",
     "text": [
      "Processed: C:\\Users\\abdul\\Desktop\\Foliar research\\Feature Engineering\\Cleaned Tomato___Tomato_Yellow_Leaf_Curl_Virus.csv -> Imputed_Cleaned Tomato___Tomato_Yellow_Leaf_Curl_Virus.csv\n"
     ]
    },
    {
     "name": "stderr",
     "output_type": "stream",
     "text": [
      "C:\\Users\\abdul\\AppData\\Local\\Temp\\ipykernel_26736\\2504319490.py:11: FutureWarning: A value is trying to be set on a copy of a DataFrame or Series through chained assignment using an inplace method.\n",
      "The behavior will change in pandas 3.0. This inplace method will never work because the intermediate object on which we are setting values always behaves as a copy.\n",
      "\n",
      "For example, when doing 'df[col].method(value, inplace=True)', try using 'df.method({col: value}, inplace=True)' or df[col] = df[col].method(value) instead, to perform the operation inplace on the original object.\n",
      "\n",
      "\n",
      "  df[column].fillna(df[column].mode()[0], inplace=True)\n",
      "C:\\Users\\abdul\\AppData\\Local\\Temp\\ipykernel_26736\\2504319490.py:11: FutureWarning: Downcasting object dtype arrays on .fillna, .ffill, .bfill is deprecated and will change in a future version. Call result.infer_objects(copy=False) instead. To opt-in to the future behavior, set `pd.set_option('future.no_silent_downcasting', True)`\n",
      "  df[column].fillna(df[column].mode()[0], inplace=True)\n"
     ]
    },
    {
     "name": "stdout",
     "output_type": "stream",
     "text": [
      "Processed: C:\\Users\\abdul\\Desktop\\Foliar research\\Feature Engineering\\Diseased Data - All.csv -> Imputed_Diseased Data - All.csv\n",
      "Processed: C:\\Users\\abdul\\Desktop\\Foliar research\\Feature Engineering\\Diseased Tomato___Bacterial_spot.csv -> Imputed_Diseased Tomato___Bacterial_spot.csv\n",
      "Processed: C:\\Users\\abdul\\Desktop\\Foliar research\\Feature Engineering\\Diseased Tomato___Early_blight.csv -> Imputed_Diseased Tomato___Early_blight.csv\n",
      "Processed: C:\\Users\\abdul\\Desktop\\Foliar research\\Feature Engineering\\Diseased Tomato___healthy.csv -> Imputed_Diseased Tomato___healthy.csv\n"
     ]
    },
    {
     "name": "stderr",
     "output_type": "stream",
     "text": [
      "C:\\Users\\abdul\\AppData\\Local\\Temp\\ipykernel_26736\\2504319490.py:11: FutureWarning: A value is trying to be set on a copy of a DataFrame or Series through chained assignment using an inplace method.\n",
      "The behavior will change in pandas 3.0. This inplace method will never work because the intermediate object on which we are setting values always behaves as a copy.\n",
      "\n",
      "For example, when doing 'df[col].method(value, inplace=True)', try using 'df.method({col: value}, inplace=True)' or df[col] = df[col].method(value) instead, to perform the operation inplace on the original object.\n",
      "\n",
      "\n",
      "  df[column].fillna(df[column].mode()[0], inplace=True)\n",
      "C:\\Users\\abdul\\AppData\\Local\\Temp\\ipykernel_26736\\2504319490.py:11: FutureWarning: Downcasting object dtype arrays on .fillna, .ffill, .bfill is deprecated and will change in a future version. Call result.infer_objects(copy=False) instead. To opt-in to the future behavior, set `pd.set_option('future.no_silent_downcasting', True)`\n",
      "  df[column].fillna(df[column].mode()[0], inplace=True)\n",
      "C:\\Users\\abdul\\AppData\\Local\\Temp\\ipykernel_26736\\2504319490.py:11: FutureWarning: A value is trying to be set on a copy of a DataFrame or Series through chained assignment using an inplace method.\n",
      "The behavior will change in pandas 3.0. This inplace method will never work because the intermediate object on which we are setting values always behaves as a copy.\n",
      "\n",
      "For example, when doing 'df[col].method(value, inplace=True)', try using 'df.method({col: value}, inplace=True)' or df[col] = df[col].method(value) instead, to perform the operation inplace on the original object.\n",
      "\n",
      "\n",
      "  df[column].fillna(df[column].mode()[0], inplace=True)\n",
      "C:\\Users\\abdul\\AppData\\Local\\Temp\\ipykernel_26736\\2504319490.py:11: FutureWarning: Downcasting object dtype arrays on .fillna, .ffill, .bfill is deprecated and will change in a future version. Call result.infer_objects(copy=False) instead. To opt-in to the future behavior, set `pd.set_option('future.no_silent_downcasting', True)`\n",
      "  df[column].fillna(df[column].mode()[0], inplace=True)\n",
      "C:\\Users\\abdul\\AppData\\Local\\Temp\\ipykernel_26736\\2504319490.py:11: FutureWarning: A value is trying to be set on a copy of a DataFrame or Series through chained assignment using an inplace method.\n",
      "The behavior will change in pandas 3.0. This inplace method will never work because the intermediate object on which we are setting values always behaves as a copy.\n",
      "\n",
      "For example, when doing 'df[col].method(value, inplace=True)', try using 'df.method({col: value}, inplace=True)' or df[col] = df[col].method(value) instead, to perform the operation inplace on the original object.\n",
      "\n",
      "\n",
      "  df[column].fillna(df[column].mode()[0], inplace=True)\n",
      "C:\\Users\\abdul\\AppData\\Local\\Temp\\ipykernel_26736\\2504319490.py:11: FutureWarning: Downcasting object dtype arrays on .fillna, .ffill, .bfill is deprecated and will change in a future version. Call result.infer_objects(copy=False) instead. To opt-in to the future behavior, set `pd.set_option('future.no_silent_downcasting', True)`\n",
      "  df[column].fillna(df[column].mode()[0], inplace=True)\n",
      "C:\\Users\\abdul\\AppData\\Local\\Temp\\ipykernel_26736\\2504319490.py:11: FutureWarning: A value is trying to be set on a copy of a DataFrame or Series through chained assignment using an inplace method.\n",
      "The behavior will change in pandas 3.0. This inplace method will never work because the intermediate object on which we are setting values always behaves as a copy.\n",
      "\n",
      "For example, when doing 'df[col].method(value, inplace=True)', try using 'df.method({col: value}, inplace=True)' or df[col] = df[col].method(value) instead, to perform the operation inplace on the original object.\n",
      "\n",
      "\n",
      "  df[column].fillna(df[column].mode()[0], inplace=True)\n",
      "C:\\Users\\abdul\\AppData\\Local\\Temp\\ipykernel_26736\\2504319490.py:11: FutureWarning: Downcasting object dtype arrays on .fillna, .ffill, .bfill is deprecated and will change in a future version. Call result.infer_objects(copy=False) instead. To opt-in to the future behavior, set `pd.set_option('future.no_silent_downcasting', True)`\n",
      "  df[column].fillna(df[column].mode()[0], inplace=True)\n"
     ]
    },
    {
     "name": "stdout",
     "output_type": "stream",
     "text": [
      "Processed: C:\\Users\\abdul\\Desktop\\Foliar research\\Feature Engineering\\Diseased Tomato___Late_blight.csv -> Imputed_Diseased Tomato___Late_blight.csv\n",
      "Processed: C:\\Users\\abdul\\Desktop\\Foliar research\\Feature Engineering\\Diseased Tomato___Leaf_Mold.csv -> Imputed_Diseased Tomato___Leaf_Mold.csv\n",
      "Processed: C:\\Users\\abdul\\Desktop\\Foliar research\\Feature Engineering\\Diseased Tomato___Septoria_leaf_spot.csv -> Imputed_Diseased Tomato___Septoria_leaf_spot.csv\n"
     ]
    },
    {
     "name": "stderr",
     "output_type": "stream",
     "text": [
      "C:\\Users\\abdul\\AppData\\Local\\Temp\\ipykernel_26736\\2504319490.py:11: FutureWarning: A value is trying to be set on a copy of a DataFrame or Series through chained assignment using an inplace method.\n",
      "The behavior will change in pandas 3.0. This inplace method will never work because the intermediate object on which we are setting values always behaves as a copy.\n",
      "\n",
      "For example, when doing 'df[col].method(value, inplace=True)', try using 'df.method({col: value}, inplace=True)' or df[col] = df[col].method(value) instead, to perform the operation inplace on the original object.\n",
      "\n",
      "\n",
      "  df[column].fillna(df[column].mode()[0], inplace=True)\n",
      "C:\\Users\\abdul\\AppData\\Local\\Temp\\ipykernel_26736\\2504319490.py:11: FutureWarning: Downcasting object dtype arrays on .fillna, .ffill, .bfill is deprecated and will change in a future version. Call result.infer_objects(copy=False) instead. To opt-in to the future behavior, set `pd.set_option('future.no_silent_downcasting', True)`\n",
      "  df[column].fillna(df[column].mode()[0], inplace=True)\n",
      "C:\\Users\\abdul\\AppData\\Local\\Temp\\ipykernel_26736\\2504319490.py:11: FutureWarning: A value is trying to be set on a copy of a DataFrame or Series through chained assignment using an inplace method.\n",
      "The behavior will change in pandas 3.0. This inplace method will never work because the intermediate object on which we are setting values always behaves as a copy.\n",
      "\n",
      "For example, when doing 'df[col].method(value, inplace=True)', try using 'df.method({col: value}, inplace=True)' or df[col] = df[col].method(value) instead, to perform the operation inplace on the original object.\n",
      "\n",
      "\n",
      "  df[column].fillna(df[column].mode()[0], inplace=True)\n",
      "C:\\Users\\abdul\\AppData\\Local\\Temp\\ipykernel_26736\\2504319490.py:11: FutureWarning: Downcasting object dtype arrays on .fillna, .ffill, .bfill is deprecated and will change in a future version. Call result.infer_objects(copy=False) instead. To opt-in to the future behavior, set `pd.set_option('future.no_silent_downcasting', True)`\n",
      "  df[column].fillna(df[column].mode()[0], inplace=True)\n",
      "C:\\Users\\abdul\\AppData\\Local\\Temp\\ipykernel_26736\\2504319490.py:11: FutureWarning: A value is trying to be set on a copy of a DataFrame or Series through chained assignment using an inplace method.\n",
      "The behavior will change in pandas 3.0. This inplace method will never work because the intermediate object on which we are setting values always behaves as a copy.\n",
      "\n",
      "For example, when doing 'df[col].method(value, inplace=True)', try using 'df.method({col: value}, inplace=True)' or df[col] = df[col].method(value) instead, to perform the operation inplace on the original object.\n",
      "\n",
      "\n",
      "  df[column].fillna(df[column].mode()[0], inplace=True)\n",
      "C:\\Users\\abdul\\AppData\\Local\\Temp\\ipykernel_26736\\2504319490.py:11: FutureWarning: Downcasting object dtype arrays on .fillna, .ffill, .bfill is deprecated and will change in a future version. Call result.infer_objects(copy=False) instead. To opt-in to the future behavior, set `pd.set_option('future.no_silent_downcasting', True)`\n",
      "  df[column].fillna(df[column].mode()[0], inplace=True)\n",
      "C:\\Users\\abdul\\AppData\\Local\\Temp\\ipykernel_26736\\2504319490.py:11: FutureWarning: A value is trying to be set on a copy of a DataFrame or Series through chained assignment using an inplace method.\n",
      "The behavior will change in pandas 3.0. This inplace method will never work because the intermediate object on which we are setting values always behaves as a copy.\n",
      "\n",
      "For example, when doing 'df[col].method(value, inplace=True)', try using 'df.method({col: value}, inplace=True)' or df[col] = df[col].method(value) instead, to perform the operation inplace on the original object.\n",
      "\n",
      "\n",
      "  df[column].fillna(df[column].mode()[0], inplace=True)\n",
      "C:\\Users\\abdul\\AppData\\Local\\Temp\\ipykernel_26736\\2504319490.py:11: FutureWarning: Downcasting object dtype arrays on .fillna, .ffill, .bfill is deprecated and will change in a future version. Call result.infer_objects(copy=False) instead. To opt-in to the future behavior, set `pd.set_option('future.no_silent_downcasting', True)`\n",
      "  df[column].fillna(df[column].mode()[0], inplace=True)\n"
     ]
    },
    {
     "name": "stdout",
     "output_type": "stream",
     "text": [
      "Processed: C:\\Users\\abdul\\Desktop\\Foliar research\\Feature Engineering\\Diseased Tomato___Spider_mites Two-spotted_spider_mite.csv -> Imputed_Diseased Tomato___Spider_mites Two-spotted_spider_mite.csv\n",
      "Processed: C:\\Users\\abdul\\Desktop\\Foliar research\\Feature Engineering\\Diseased Tomato___Target_Spot.csv -> Imputed_Diseased Tomato___Target_Spot.csv\n",
      "Processed: C:\\Users\\abdul\\Desktop\\Foliar research\\Feature Engineering\\Diseased Tomato___Tomato_mosaic_virus.csv -> Imputed_Diseased Tomato___Tomato_mosaic_virus.csv\n",
      "Processed: C:\\Users\\abdul\\Desktop\\Foliar research\\Feature Engineering\\Diseased Tomato___Tomato_Yellow_Leaf_Curl_Virus.csv -> Imputed_Diseased Tomato___Tomato_Yellow_Leaf_Curl_Virus.csv\n"
     ]
    },
    {
     "name": "stderr",
     "output_type": "stream",
     "text": [
      "C:\\Users\\abdul\\AppData\\Local\\Temp\\ipykernel_26736\\2504319490.py:11: FutureWarning: A value is trying to be set on a copy of a DataFrame or Series through chained assignment using an inplace method.\n",
      "The behavior will change in pandas 3.0. This inplace method will never work because the intermediate object on which we are setting values always behaves as a copy.\n",
      "\n",
      "For example, when doing 'df[col].method(value, inplace=True)', try using 'df.method({col: value}, inplace=True)' or df[col] = df[col].method(value) instead, to perform the operation inplace on the original object.\n",
      "\n",
      "\n",
      "  df[column].fillna(df[column].mode()[0], inplace=True)\n",
      "C:\\Users\\abdul\\AppData\\Local\\Temp\\ipykernel_26736\\2504319490.py:11: FutureWarning: Downcasting object dtype arrays on .fillna, .ffill, .bfill is deprecated and will change in a future version. Call result.infer_objects(copy=False) instead. To opt-in to the future behavior, set `pd.set_option('future.no_silent_downcasting', True)`\n",
      "  df[column].fillna(df[column].mode()[0], inplace=True)\n",
      "C:\\Users\\abdul\\AppData\\Local\\Temp\\ipykernel_26736\\2504319490.py:11: FutureWarning: A value is trying to be set on a copy of a DataFrame or Series through chained assignment using an inplace method.\n",
      "The behavior will change in pandas 3.0. This inplace method will never work because the intermediate object on which we are setting values always behaves as a copy.\n",
      "\n",
      "For example, when doing 'df[col].method(value, inplace=True)', try using 'df.method({col: value}, inplace=True)' or df[col] = df[col].method(value) instead, to perform the operation inplace on the original object.\n",
      "\n",
      "\n",
      "  df[column].fillna(df[column].mode()[0], inplace=True)\n",
      "C:\\Users\\abdul\\AppData\\Local\\Temp\\ipykernel_26736\\2504319490.py:11: FutureWarning: Downcasting object dtype arrays on .fillna, .ffill, .bfill is deprecated and will change in a future version. Call result.infer_objects(copy=False) instead. To opt-in to the future behavior, set `pd.set_option('future.no_silent_downcasting', True)`\n",
      "  df[column].fillna(df[column].mode()[0], inplace=True)\n"
     ]
    }
   ],
   "source": [
    "# Iterate over each CSV file in the folder\n",
    "for filename in os.listdir(input_folder):\n",
    "    if filename.endswith('.csv'):\n",
    "        input_file = os.path.join(input_folder, filename)\n",
    "        process_csv(input_file)"
   ]
  }
 ],
 "metadata": {
  "kernelspec": {
   "display_name": "Python 3",
   "language": "python",
   "name": "python3"
  },
  "language_info": {
   "codemirror_mode": {
    "name": "ipython",
    "version": 3
   },
   "file_extension": ".py",
   "mimetype": "text/x-python",
   "name": "python",
   "nbconvert_exporter": "python",
   "pygments_lexer": "ipython3",
   "version": "3.11.3"
  }
 },
 "nbformat": 4,
 "nbformat_minor": 2
}
