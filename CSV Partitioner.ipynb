{
 "cells": [
  {
   "cell_type": "code",
   "execution_count": 9,
   "metadata": {},
   "outputs": [],
   "source": [
    "import csv\n",
    "from collections import defaultdict"
   ]
  },
  {
   "cell_type": "code",
   "execution_count": 10,
   "metadata": {},
   "outputs": [],
   "source": [
    "# Open the input CSV file\n",
    "with open('Cleaned Data - All.csv', 'r') as input_file:\n",
    "    reader = csv.DictReader(input_file)\n",
    "    data = list(reader)"
   ]
  },
  {
   "cell_type": "code",
   "execution_count": 11,
   "metadata": {},
   "outputs": [],
   "source": [
    "# Create a dictionary to store the data for each class label\n",
    "class_data = defaultdict(list)\n"
   ]
  },
  {
   "cell_type": "code",
   "execution_count": 12,
   "metadata": {},
   "outputs": [
    {
     "name": "stdout",
     "output_type": "stream",
     "text": [
      "Saved Tomato___Bacterial_spot.csv\n",
      "Saved Tomato___Early_blight.csv\n",
      "Saved Tomato___healthy.csv\n",
      "Saved Tomato___Late_blight.csv\n",
      "Saved Tomato___Leaf_Mold.csv\n",
      "Saved Tomato___Septoria_leaf_spot.csv\n",
      "Saved Tomato___Spider_mites Two-spotted_spider_mite.csv\n",
      "Saved Tomato___Target_Spot.csv\n",
      "Saved Tomato___Tomato_mosaic_virus.csv\n",
      "Saved Tomato___Tomato_Yellow_Leaf_Curl_Virus.csv\n"
     ]
    }
   ],
   "source": [
    "# Iterate through the data and group it by class label\n",
    "for row in data:\n",
    "    class_label = row['classlabel']\n",
    "    class_data[class_label].append(row)\n",
    "\n",
    "# Write each class label's data to a separate CSV file\n",
    "for class_label, rows in class_data.items():\n",
    "    with open(f'Cleaned {class_label}.csv', 'w', newline='') as output_file:\n",
    "        fieldnames = rows[0].keys()\n",
    "        writer = csv.DictWriter(output_file, fieldnames=fieldnames)\n",
    "        writer.writeheader()\n",
    "        writer.writerows(rows)\n",
    "    print(f'Saved {class_label}.csv')"
   ]
  }
 ],
 "metadata": {
  "kernelspec": {
   "display_name": "Python 3",
   "language": "python",
   "name": "python3"
  },
  "language_info": {
   "codemirror_mode": {
    "name": "ipython",
    "version": 3
   },
   "file_extension": ".py",
   "mimetype": "text/x-python",
   "name": "python",
   "nbconvert_exporter": "python",
   "pygments_lexer": "ipython3",
   "version": "3.11.3"
  }
 },
 "nbformat": 4,
 "nbformat_minor": 2
}
